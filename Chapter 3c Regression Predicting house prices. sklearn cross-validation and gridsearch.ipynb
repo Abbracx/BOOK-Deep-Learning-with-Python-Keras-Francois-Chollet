{
 "cells": [
  {
   "cell_type": "code",
   "execution_count": 1,
   "metadata": {},
   "outputs": [
    {
     "name": "stderr",
     "output_type": "stream",
     "text": [
      "Using TensorFlow backend.\n"
     ]
    }
   ],
   "source": [
    "from keras.datasets import boston_housing"
   ]
  },
  {
   "cell_type": "code",
   "execution_count": 2,
   "metadata": {
    "collapsed": true
   },
   "outputs": [],
   "source": [
    "(train_data, train_targets), (test_data, test_targets) = boston_housing.load_data()"
   ]
  },
  {
   "cell_type": "code",
   "execution_count": 3,
   "metadata": {
    "scrolled": true
   },
   "outputs": [
    {
     "data": {
      "text/plain": [
       "(404, 13)"
      ]
     },
     "execution_count": 3,
     "metadata": {},
     "output_type": "execute_result"
    }
   ],
   "source": [
    "train_data.shape"
   ]
  },
  {
   "cell_type": "code",
   "execution_count": 5,
   "metadata": {},
   "outputs": [
    {
     "data": {
      "text/plain": [
       "(404,)"
      ]
     },
     "execution_count": 5,
     "metadata": {},
     "output_type": "execute_result"
    }
   ],
   "source": [
    "train_targets.shape"
   ]
  },
  {
   "cell_type": "code",
   "execution_count": 4,
   "metadata": {},
   "outputs": [
    {
     "data": {
      "text/plain": [
       "(102, 13)"
      ]
     },
     "execution_count": 4,
     "metadata": {},
     "output_type": "execute_result"
    }
   ],
   "source": [
    "test_data.shape"
   ]
  },
  {
   "cell_type": "code",
   "execution_count": 5,
   "metadata": {},
   "outputs": [
    {
     "data": {
      "text/plain": [
       "array([ 15.2,  42.3,  50. ,  21.1,  17.7,  18.5,  11.3,  15.6,  15.6,\n",
       "        14.4,  12.1,  17.9,  23.1,  19.9,  15.7,   8.8,  50. ,  22.5,\n",
       "        24.1,  27.5])"
      ]
     },
     "execution_count": 5,
     "metadata": {},
     "output_type": "execute_result"
    }
   ],
   "source": [
    "train_targets[:20]"
   ]
  },
  {
   "cell_type": "code",
   "execution_count": 6,
   "metadata": {},
   "outputs": [
    {
     "data": {
      "text/plain": [
       "(13,)"
      ]
     },
     "execution_count": 6,
     "metadata": {},
     "output_type": "execute_result"
    }
   ],
   "source": [
    "train_data.mean(axis=0).shape"
   ]
  },
  {
   "cell_type": "code",
   "execution_count": 7,
   "metadata": {
    "collapsed": true
   },
   "outputs": [],
   "source": [
    "# Normalizing the data\n",
    "\n",
    "mean = train_data.mean(axis=0)\n",
    "train_data -= mean\n",
    "std = train_data.std(axis=0)\n",
    "train_data /= std\n",
    "\n",
    "test_data -= mean\n",
    "test_data /= std"
   ]
  },
  {
   "cell_type": "code",
   "execution_count": 8,
   "metadata": {},
   "outputs": [
    {
     "data": {
      "text/plain": [
       "(404, 13)"
      ]
     },
     "execution_count": 8,
     "metadata": {},
     "output_type": "execute_result"
    }
   ],
   "source": [
    "train_data.shape"
   ]
  },
  {
   "cell_type": "code",
   "execution_count": 9,
   "metadata": {
    "collapsed": true
   },
   "outputs": [],
   "source": [
    "# Model definition\n",
    "\n",
    "from keras import models\n",
    "from keras import layers\n",
    "\n",
    "def build_model():\n",
    "    model = models.Sequential()\n",
    "    model.add(layers.Dense(64, activation='relu',\n",
    "                           input_shape=(train_data.shape[1],)))\n",
    "    model.add(layers.Dense(64, activation='relu'))\n",
    "    model.add(layers.Dense(1))\n",
    "    model.compile(optimizer='rmsprop', loss='mse', metrics=['mae'])\n",
    "    return model"
   ]
  },
  {
   "cell_type": "code",
   "execution_count": 12,
   "metadata": {
    "collapsed": true
   },
   "outputs": [],
   "source": [
    "from sklearn.model_selection import KFold\n",
    "from sklearn.model_selection import cross_val_score\n",
    "from keras.wrappers.scikit_learn import KerasRegressor"
   ]
  },
  {
   "cell_type": "code",
   "execution_count": 19,
   "metadata": {
    "collapsed": true
   },
   "outputs": [],
   "source": [
    "seed = 7\n",
    "model = KerasRegressor(build_fn=build_model, epochs=100, batch_size=10, verbose=0)\n",
    "results = cross_val_score(model, train_data, train_targets, cv=4, scoring='neg_mean_absolute_error')"
   ]
  },
  {
   "cell_type": "code",
   "execution_count": 22,
   "metadata": {},
   "outputs": [
    {
     "data": {
      "text/plain": [
       "[2.0142693302418926,\n",
       " 2.3231820182044904,\n",
       " 2.4991349994546117,\n",
       " 2.6517432108964059]"
      ]
     },
     "execution_count": 22,
     "metadata": {},
     "output_type": "execute_result"
    }
   ],
   "source": [
    "# mean absolute erorrs\n",
    "\n",
    "[-x for x in results]"
   ]
  },
  {
   "cell_type": "markdown",
   "metadata": {},
   "source": [
    "## Grid Search Deep Learning Model Parameters"
   ]
  },
  {
   "cell_type": "code",
   "execution_count": 43,
   "metadata": {
    "collapsed": true
   },
   "outputs": [],
   "source": [
    "from keras.models import Sequential\n",
    "from keras.layers import Dense\n",
    "from sklearn.model_selection import GridSearchCV\n",
    "import numpy\n",
    "\n",
    "# fix random seed for reproducibility\n",
    "seed = 7\n",
    "# create model\n",
    "model = KerasRegressor(build_fn=build_model, verbose=0)\n",
    "\n",
    "# Grid search epochs, batch size\n",
    "epochs = [50, 100, 200, 400]\n",
    "epochs = [100]\n",
    "\n",
    "batches = [10, 20, 50]\n",
    "batches = [5, 10, 20]\n",
    "\n",
    "param_grid = dict(epochs=epochs, batch_size=batches)\n",
    "\n",
    "grid = GridSearchCV(estimator=model, param_grid=param_grid, scoring='neg_mean_absolute_error')\n",
    "grid_result = grid.fit(train_data, train_targets)"
   ]
  },
  {
   "cell_type": "code",
   "execution_count": 44,
   "metadata": {},
   "outputs": [
    {
     "data": {
      "text/plain": [
       "GridSearchCV(cv=None, error_score='raise',\n",
       "       estimator=<keras.wrappers.scikit_learn.KerasRegressor object at 0x7f8a57939898>,\n",
       "       fit_params={}, iid=True, n_jobs=1,\n",
       "       param_grid={'epochs': [100], 'batch_size': [5, 10, 20]},\n",
       "       pre_dispatch='2*n_jobs', refit=True, return_train_score=True,\n",
       "       scoring='neg_mean_absolute_error', verbose=0)"
      ]
     },
     "execution_count": 44,
     "metadata": {},
     "output_type": "execute_result"
    }
   ],
   "source": [
    "grid_result"
   ]
  },
  {
   "cell_type": "code",
   "execution_count": 45,
   "metadata": {},
   "outputs": [
    {
     "name": "stdout",
     "output_type": "stream",
     "text": [
      "Best: -2.378051 using {'epochs': 100, 'batch_size': 5}\n"
     ]
    }
   ],
   "source": [
    "print(\"Best: %f using %s\" % (grid_result.best_score_, grid_result.best_params_))"
   ]
  },
  {
   "cell_type": "code",
   "execution_count": 53,
   "metadata": {},
   "outputs": [
    {
     "data": {
      "text/plain": [
       "{'mean_fit_time': array([ 11.83142662,   7.51315538,   6.73973481]),\n",
       " 'mean_score_time': array([ 0.66200805,  0.75336599,  0.72342523]),\n",
       " 'mean_test_score': array([-2.37805085, -2.41684322, -2.47693596]),\n",
       " 'mean_train_score': array([-1.25712286, -1.51166551, -1.65114305]),\n",
       " 'param_batch_size': masked_array(data = [5 10 20],\n",
       "              mask = [False False False],\n",
       "        fill_value = ?),\n",
       " 'param_epochs': masked_array(data = [100 100 100],\n",
       "              mask = [False False False],\n",
       "        fill_value = ?),\n",
       " 'params': ({'batch_size': 5, 'epochs': 100},\n",
       "  {'batch_size': 10, 'epochs': 100},\n",
       "  {'batch_size': 20, 'epochs': 100}),\n",
       " 'rank_test_score': array([1, 2, 3], dtype=int32),\n",
       " 'split0_test_score': array([-2.26648575, -2.33717986, -2.26973753]),\n",
       " 'split0_train_score': array([-1.31456842, -1.68710879, -1.77171337]),\n",
       " 'split1_test_score': array([-2.50746579, -2.37015969, -2.59644611]),\n",
       " 'split1_train_score': array([-1.23762205, -1.4415398 , -1.70848698]),\n",
       " 'split2_test_score': array([-2.36006781, -2.54413299, -2.56527863]),\n",
       " 'split2_train_score': array([-1.21917811, -1.40634793, -1.4732288 ]),\n",
       " 'std_fit_time': array([ 0.19409008,  0.9206993 ,  3.43187444]),\n",
       " 'std_score_time': array([ 0.01262069,  0.0831546 ,  0.07058228]),\n",
       " 'std_test_score': array([ 0.09931272,  0.09068109,  0.14733327]),\n",
       " 'std_train_score': array([ 0.04131214,  0.12488628,  0.12842509])}"
      ]
     },
     "execution_count": 53,
     "metadata": {},
     "output_type": "execute_result"
    }
   ],
   "source": [
    "means = grid_result.cv_results_\n",
    "means"
   ]
  },
  {
   "cell_type": "code",
   "execution_count": 57,
   "metadata": {},
   "outputs": [
    {
     "name": "stdout",
     "output_type": "stream",
     "text": [
      "Epoch 1/100\n",
      "404/404 [==============================] - 1s - loss: 382.2340 - mean_absolute_error: 17.0892     \n",
      "Epoch 2/100\n",
      "404/404 [==============================] - 0s - loss: 75.9258 - mean_absolute_error: 6.4547     \n",
      "Epoch 3/100\n",
      "404/404 [==============================] - 0s - loss: 28.1456 - mean_absolute_error: 3.7505     \n",
      "Epoch 4/100\n",
      "404/404 [==============================] - 0s - loss: 20.0236 - mean_absolute_error: 3.1200     \n",
      "Epoch 5/100\n",
      "404/404 [==============================] - 0s - loss: 16.8870 - mean_absolute_error: 2.8221     \n",
      "Epoch 6/100\n",
      "404/404 [==============================] - 0s - loss: 15.2049 - mean_absolute_error: 2.7001     \n",
      "Epoch 7/100\n",
      "404/404 [==============================] - 0s - loss: 13.7905 - mean_absolute_error: 2.5716     \n",
      "Epoch 8/100\n",
      "404/404 [==============================] - 0s - loss: 12.4882 - mean_absolute_error: 2.3990     \n",
      "Epoch 9/100\n",
      "404/404 [==============================] - 0s - loss: 11.9943 - mean_absolute_error: 2.4156    \n",
      "Epoch 10/100\n",
      "404/404 [==============================] - 0s - loss: 11.3174 - mean_absolute_error: 2.3280     \n",
      "Epoch 11/100\n",
      "404/404 [==============================] - 0s - loss: 10.7610 - mean_absolute_error: 2.2947     \n",
      "Epoch 12/100\n",
      "404/404 [==============================] - 0s - loss: 10.3375 - mean_absolute_error: 2.2294    \n",
      "Epoch 13/100\n",
      "404/404 [==============================] - 0s - loss: 10.2382 - mean_absolute_error: 2.2405    \n",
      "Epoch 14/100\n",
      "404/404 [==============================] - 0s - loss: 10.1052 - mean_absolute_error: 2.2063     \n",
      "Epoch 15/100\n",
      "404/404 [==============================] - 0s - loss: 9.9072 - mean_absolute_error: 2.1679      \n",
      "Epoch 16/100\n",
      "404/404 [==============================] - 0s - loss: 9.4635 - mean_absolute_error: 2.1458      \n",
      "Epoch 17/100\n",
      "404/404 [==============================] - 0s - loss: 9.4881 - mean_absolute_error: 2.1255      \n",
      "Epoch 18/100\n",
      "404/404 [==============================] - 0s - loss: 9.1872 - mean_absolute_error: 2.1070     \n",
      "Epoch 19/100\n",
      "404/404 [==============================] - 0s - loss: 9.1413 - mean_absolute_error: 2.0685     \n",
      "Epoch 20/100\n",
      "404/404 [==============================] - 0s - loss: 8.8544 - mean_absolute_error: 2.0734     \n",
      "Epoch 21/100\n",
      "404/404 [==============================] - 0s - loss: 8.7851 - mean_absolute_error: 2.0197     \n",
      "Epoch 22/100\n",
      "404/404 [==============================] - 0s - loss: 8.5340 - mean_absolute_error: 1.9911     \n",
      "Epoch 23/100\n",
      "404/404 [==============================] - 0s - loss: 8.5976 - mean_absolute_error: 1.9801     \n",
      "Epoch 24/100\n",
      "404/404 [==============================] - 0s - loss: 8.1695 - mean_absolute_error: 2.0070     \n",
      "Epoch 25/100\n",
      "404/404 [==============================] - 0s - loss: 8.1901 - mean_absolute_error: 1.9774     \n",
      "Epoch 26/100\n",
      "404/404 [==============================] - 0s - loss: 8.0723 - mean_absolute_error: 1.9554     \n",
      "Epoch 27/100\n",
      "404/404 [==============================] - 0s - loss: 7.9749 - mean_absolute_error: 1.9805     \n",
      "Epoch 28/100\n",
      "404/404 [==============================] - 0s - loss: 7.9937 - mean_absolute_error: 1.9493     \n",
      "Epoch 29/100\n",
      "404/404 [==============================] - 0s - loss: 7.7215 - mean_absolute_error: 1.9348     \n",
      "Epoch 30/100\n",
      "404/404 [==============================] - 0s - loss: 7.8051 - mean_absolute_error: 1.8979     \n",
      "Epoch 31/100\n",
      "404/404 [==============================] - 0s - loss: 7.5137 - mean_absolute_error: 1.8889     \n",
      "Epoch 32/100\n",
      "404/404 [==============================] - 0s - loss: 7.5452 - mean_absolute_error: 1.9157     \n",
      "Epoch 33/100\n",
      "404/404 [==============================] - 0s - loss: 7.3949 - mean_absolute_error: 1.8476     \n",
      "Epoch 34/100\n",
      "404/404 [==============================] - 0s - loss: 7.2323 - mean_absolute_error: 1.8899     \n",
      "Epoch 35/100\n",
      "404/404 [==============================] - 0s - loss: 7.2253 - mean_absolute_error: 1.8493     \n",
      "Epoch 36/100\n",
      "404/404 [==============================] - 0s - loss: 7.1919 - mean_absolute_error: 1.8513     \n",
      "Epoch 37/100\n",
      "404/404 [==============================] - 0s - loss: 7.1163 - mean_absolute_error: 1.8414     \n",
      "Epoch 38/100\n",
      "404/404 [==============================] - 0s - loss: 6.9091 - mean_absolute_error: 1.8063     \n",
      "Epoch 39/100\n",
      "404/404 [==============================] - 0s - loss: 7.0126 - mean_absolute_error: 1.8045     \n",
      "Epoch 40/100\n",
      "404/404 [==============================] - 0s - loss: 6.9906 - mean_absolute_error: 1.8063     \n",
      "Epoch 41/100\n",
      "404/404 [==============================] - 0s - loss: 6.6145 - mean_absolute_error: 1.8107     \n",
      "Epoch 42/100\n",
      "404/404 [==============================] - 0s - loss: 6.7268 - mean_absolute_error: 1.8340     \n",
      "Epoch 43/100\n",
      "404/404 [==============================] - 0s - loss: 6.8184 - mean_absolute_error: 1.8134     \n",
      "Epoch 44/100\n",
      "404/404 [==============================] - 0s - loss: 6.4251 - mean_absolute_error: 1.7596     \n",
      "Epoch 45/100\n",
      "404/404 [==============================] - 0s - loss: 6.4962 - mean_absolute_error: 1.7639     \n",
      "Epoch 46/100\n",
      "404/404 [==============================] - 0s - loss: 6.5794 - mean_absolute_error: 1.7748     \n",
      "Epoch 47/100\n",
      "404/404 [==============================] - 0s - loss: 6.0934 - mean_absolute_error: 1.7740     \n",
      "Epoch 48/100\n",
      "404/404 [==============================] - 0s - loss: 6.1449 - mean_absolute_error: 1.7513     \n",
      "Epoch 49/100\n",
      "404/404 [==============================] - 0s - loss: 6.1791 - mean_absolute_error: 1.7340     \n",
      "Epoch 50/100\n",
      "404/404 [==============================] - 0s - loss: 6.2361 - mean_absolute_error: 1.7093     \n",
      "Epoch 51/100\n",
      "404/404 [==============================] - 0s - loss: 6.0951 - mean_absolute_error: 1.7092     \n",
      "Epoch 52/100\n",
      "404/404 [==============================] - 0s - loss: 5.9914 - mean_absolute_error: 1.6879     \n",
      "Epoch 53/100\n",
      "404/404 [==============================] - 0s - loss: 5.9589 - mean_absolute_error: 1.7130     \n",
      "Epoch 54/100\n",
      "404/404 [==============================] - 0s - loss: 5.8489 - mean_absolute_error: 1.6781     \n",
      "Epoch 55/100\n",
      "404/404 [==============================] - 0s - loss: 5.9835 - mean_absolute_error: 1.7065     \n",
      "Epoch 56/100\n",
      "404/404 [==============================] - 0s - loss: 5.9215 - mean_absolute_error: 1.6980     \n",
      "Epoch 57/100\n",
      "404/404 [==============================] - 0s - loss: 5.6294 - mean_absolute_error: 1.6578     \n",
      "Epoch 58/100\n",
      "404/404 [==============================] - 0s - loss: 5.7330 - mean_absolute_error: 1.6686     \n",
      "Epoch 59/100\n",
      "404/404 [==============================] - 0s - loss: 5.5464 - mean_absolute_error: 1.6412     \n",
      "Epoch 60/100\n",
      "404/404 [==============================] - 0s - loss: 5.6655 - mean_absolute_error: 1.6626     \n",
      "Epoch 61/100\n",
      "404/404 [==============================] - 0s - loss: 5.3308 - mean_absolute_error: 1.6082     \n",
      "Epoch 62/100\n",
      "404/404 [==============================] - 0s - loss: 5.5001 - mean_absolute_error: 1.6539     \n",
      "Epoch 63/100\n",
      "404/404 [==============================] - 0s - loss: 5.4473 - mean_absolute_error: 1.6343     \n",
      "Epoch 64/100\n",
      "404/404 [==============================] - 0s - loss: 5.3528 - mean_absolute_error: 1.6252     \n",
      "Epoch 65/100\n",
      "404/404 [==============================] - 0s - loss: 5.3031 - mean_absolute_error: 1.5934     \n",
      "Epoch 66/100\n",
      "404/404 [==============================] - 0s - loss: 5.3281 - mean_absolute_error: 1.6027     - ETA: 0s - loss: 5.8672 - mean_absolute_error: 1.654\n",
      "Epoch 67/100\n",
      "404/404 [==============================] - 0s - loss: 5.1750 - mean_absolute_error: 1.5825     \n",
      "Epoch 68/100\n",
      "404/404 [==============================] - 0s - loss: 5.3650 - mean_absolute_error: 1.6128     \n",
      "Epoch 69/100\n",
      "404/404 [==============================] - 0s - loss: 5.1709 - mean_absolute_error: 1.5932     \n",
      "Epoch 70/100\n",
      "404/404 [==============================] - 0s - loss: 5.0946 - mean_absolute_error: 1.6099     \n",
      "Epoch 71/100\n",
      "404/404 [==============================] - 0s - loss: 5.0828 - mean_absolute_error: 1.5537     \n",
      "Epoch 72/100\n",
      "404/404 [==============================] - 0s - loss: 5.0085 - mean_absolute_error: 1.5785     \n",
      "Epoch 73/100\n",
      "404/404 [==============================] - 0s - loss: 5.0541 - mean_absolute_error: 1.5335     \n",
      "Epoch 74/100\n",
      "404/404 [==============================] - 0s - loss: 4.6670 - mean_absolute_error: 1.5251     \n",
      "Epoch 75/100\n",
      "404/404 [==============================] - 0s - loss: 4.8578 - mean_absolute_error: 1.5490     \n",
      "Epoch 76/100\n",
      "404/404 [==============================] - 0s - loss: 4.9143 - mean_absolute_error: 1.5653     \n",
      "Epoch 77/100\n",
      "404/404 [==============================] - 0s - loss: 4.7081 - mean_absolute_error: 1.5498     \n",
      "Epoch 78/100\n",
      "404/404 [==============================] - 0s - loss: 4.8402 - mean_absolute_error: 1.5438     \n",
      "Epoch 79/100\n",
      "404/404 [==============================] - 0s - loss: 4.7193 - mean_absolute_error: 1.5250     \n",
      "Epoch 80/100\n",
      "404/404 [==============================] - 0s - loss: 4.4838 - mean_absolute_error: 1.4984     \n",
      "Epoch 81/100\n",
      "404/404 [==============================] - 0s - loss: 4.5999 - mean_absolute_error: 1.5274     \n",
      "Epoch 82/100\n",
      "404/404 [==============================] - 0s - loss: 4.4813 - mean_absolute_error: 1.5076     \n",
      "Epoch 83/100\n",
      "404/404 [==============================] - 0s - loss: 4.5858 - mean_absolute_error: 1.5034     \n",
      "Epoch 84/100\n",
      "404/404 [==============================] - 0s - loss: 4.3807 - mean_absolute_error: 1.4709     \n",
      "Epoch 85/100\n",
      "404/404 [==============================] - 0s - loss: 4.2792 - mean_absolute_error: 1.5186     \n",
      "Epoch 86/100\n",
      "404/404 [==============================] - 0s - loss: 4.3911 - mean_absolute_error: 1.4857     \n",
      "Epoch 87/100\n",
      "404/404 [==============================] - 0s - loss: 4.3795 - mean_absolute_error: 1.4743     \n",
      "Epoch 88/100\n",
      "404/404 [==============================] - 0s - loss: 4.4692 - mean_absolute_error: 1.4792     \n",
      "Epoch 89/100\n",
      "404/404 [==============================] - 0s - loss: 4.3880 - mean_absolute_error: 1.4620     \n",
      "Epoch 90/100\n",
      "404/404 [==============================] - 0s - loss: 4.1330 - mean_absolute_error: 1.4087     \n",
      "Epoch 91/100\n",
      "404/404 [==============================] - 0s - loss: 4.3965 - mean_absolute_error: 1.4765     \n",
      "Epoch 92/100\n",
      "404/404 [==============================] - 0s - loss: 4.3184 - mean_absolute_error: 1.4778     \n",
      "Epoch 93/100\n",
      "404/404 [==============================] - 0s - loss: 4.0872 - mean_absolute_error: 1.4230     \n",
      "Epoch 94/100\n",
      "404/404 [==============================] - 0s - loss: 4.1794 - mean_absolute_error: 1.4457     \n",
      "Epoch 95/100\n",
      "404/404 [==============================] - 0s - loss: 4.0764 - mean_absolute_error: 1.3802     \n",
      "Epoch 96/100\n",
      "404/404 [==============================] - 0s - loss: 4.0230 - mean_absolute_error: 1.4230     \n",
      "Epoch 97/100\n",
      "404/404 [==============================] - 0s - loss: 4.0768 - mean_absolute_error: 1.4242     \n",
      "Epoch 98/100\n",
      "404/404 [==============================] - 0s - loss: 4.1143 - mean_absolute_error: 1.4204     \n",
      "Epoch 99/100\n",
      "404/404 [==============================] - 0s - loss: 3.9947 - mean_absolute_error: 1.4446     \n",
      "Epoch 100/100\n",
      "404/404 [==============================] - 0s - loss: 3.7723 - mean_absolute_error: 1.3966     \n",
      "CPU times: user 24.6 s, sys: 2.28 s, total: 26.9 s\n",
      "Wall time: 16.9 s\n"
     ]
    }
   ],
   "source": [
    "%time history = grid_result.best_estimator_.fit(train_data, train_targets, verbose=1)"
   ]
  },
  {
   "cell_type": "code",
   "execution_count": 64,
   "metadata": {},
   "outputs": [
    {
     "name": "stdout",
     "output_type": "stream",
     "text": [
      "Best: -2.378051 using {'epochs': 100, 'batch_size': 5}\n",
      "-2.378051 (0.099313) with: {'epochs': 100, 'batch_size': 5}\n",
      "-2.416843 (0.090681) with: {'epochs': 100, 'batch_size': 10}\n",
      "-2.476936 (0.147333) with: {'epochs': 100, 'batch_size': 20}\n"
     ]
    }
   ],
   "source": [
    "# summarize results\n",
    "print(\"Best: %f using %s\" % (grid_result.best_score_, grid_result.best_params_))\n",
    "means = grid_result.cv_results_['mean_test_score']\n",
    "stds = grid_result.cv_results_['std_test_score']\n",
    "params = grid_result.cv_results_['params']\n",
    "for mean, stdev, param in zip(means, stds, params):\n",
    "    print(\"%f (%f) with: %r\" % (mean, stdev, param))"
   ]
  },
  {
   "cell_type": "code",
   "execution_count": 68,
   "metadata": {
    "collapsed": true
   },
   "outputs": [],
   "source": [
    "predictions = grid_result.predict(test_data)"
   ]
  },
  {
   "cell_type": "code",
   "execution_count": 73,
   "metadata": {},
   "outputs": [
    {
     "data": {
      "image/png": "[encoded data removed]",
      "text/plain": [
       "<matplotlib.figure.Figure at 0x7f8a52e3eb00>"
      ]
     },
     "metadata": {},
     "output_type": "display_data"
    }
   ],
   "source": [
    "import matplotlib.pyplot as plt\n",
    "%matplotlib inline\n",
    "\n",
    "plt.scatter(test_targets, predictions)\n",
    "plt.grid()\n",
    "plt.xlabel('Actual values')\n",
    "plt.ylabel('Predicted values')\n",
    "plt.show()"
   ]
  }
 ],
 "metadata": {
  "kernelspec": {
   "display_name": "Python [conda env:tensorflow]",
   "language": "python",
   "name": "conda-env-tensorflow-py"
  },
  "language_info": {
   "codemirror_mode": {
    "name": "ipython",
    "version": 3
   },
   "file_extension": ".py",
   "mimetype": "text/x-python",
   "name": "python",
   "nbconvert_exporter": "python",
   "pygments_lexer": "ipython3",
   "version": "3.5.4"
  }
 },
 "nbformat": 4,
 "nbformat_minor": 2
}
